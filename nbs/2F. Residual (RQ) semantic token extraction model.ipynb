{
 "cells": [
  {
   "cell_type": "code",
   "execution_count": null,
   "id": "6cf56fcb",
   "metadata": {},
   "outputs": [],
   "source": [
    "%load_ext autoreload\n",
    "%autoreload 2"
   ]
  },
  {
   "cell_type": "code",
   "execution_count": null,
   "id": "8ac6d8f8",
   "metadata": {},
   "outputs": [],
   "source": [
    "import io\n",
    "import time\n",
    "import torch\n",
    "import torchaudio"
   ]
  },
  {
   "cell_type": "code",
   "execution_count": null,
   "id": "ecbdddfd",
   "metadata": {},
   "outputs": [],
   "source": [
    "from pathlib import Path\n",
    "import json\n",
    "from fastprogress import progress_bar, master_bar\n",
    "import numpy as np\n",
    "import pylab as plt"
   ]
  },
  {
   "cell_type": "markdown",
   "id": "454be05c",
   "metadata": {},
   "source": [
    "# Distill Whisper with a RQ bottleneck (588hrs)"
   ]
  },
  {
   "cell_type": "code",
   "execution_count": null,
   "id": "f504ab10",
   "metadata": {},
   "outputs": [
    {
     "data": {
      "text/html": [
       "\n",
       "<style>\n",
       "    /* Turns off some styling */\n",
       "    progress {\n",
       "        /* gets rid of default border in Firefox and Opera. */\n",
       "        border: none;\n",
       "        /* Needs to be in here for Safari polyfill so background images work as expected. */\n",
       "        background-size: auto;\n",
       "    }\n",
       "    progress:not([value]), progress:not([value])::-webkit-progress-bar {\n",
       "        background: repeating-linear-gradient(45deg, #7e7e7e, #7e7e7e 10px, #5c5c5c 10px, #5c5c5c 20px);\n",
       "    }\n",
       "    .progress-bar-interrupted, .progress-bar-interrupted::-webkit-progress-bar {\n",
       "        background: #F44336;\n",
       "    }\n",
       "</style>\n"
      ],
      "text/plain": [
       "<IPython.core.display.HTML object>"
      ]
     },
     "metadata": {},
     "output_type": "display_data"
    },
    {
     "data": {
      "text/html": [],
      "text/plain": [
       "<IPython.core.display.HTML object>"
      ]
     },
     "metadata": {},
     "output_type": "display_data"
    }
   ],
   "source": [
    "# load all embeddings\n",
    "frames = []\n",
    "tokens = []\n",
    "mb = master_bar(list(Path(f'/mnt/whisper-distil/').glob('whisper-tiny-decoder-*')))\n",
    "for dirname in mb:\n",
    "    for name in progress_bar(list(dirname.rglob('*.whisper')), parent=mb):\n",
    "        frames.append(torch.load(name))\n",
    "        tokens += torch.load(name.with_suffix('.tokens'))\n",
    "\n",
    "# this uses too much RAM, we'll have to work around that:\n",
    "# frames = torch.cat(frames)\n",
    "# frames.shape"
   ]
  },
  {
   "cell_type": "code",
   "execution_count": null,
   "id": "72c8c471",
   "metadata": {},
   "outputs": [],
   "source": [
    "frames_Ns = [f.shape[0] for f in frames]"
   ]
  },
  {
   "cell_type": "code",
   "execution_count": null,
   "id": "798bfcd2",
   "metadata": {},
   "outputs": [
    {
     "data": {
      "text/plain": [
       "70560"
      ]
     },
     "execution_count": null,
     "metadata": {},
     "output_type": "execute_result"
    }
   ],
   "source": [
    "sum(frames_Ns)"
   ]
  },
  {
   "cell_type": "code",
   "execution_count": null,
   "id": "fd409aae",
   "metadata": {},
   "outputs": [
    {
     "data": {
      "text/plain": [
       "torch.Size([12, 1, 1500, 384])"
      ]
     },
     "execution_count": null,
     "metadata": {},
     "output_type": "execute_result"
    }
   ],
   "source": [
    "frames[-1].shape"
   ]
  },
  {
   "cell_type": "code",
   "execution_count": null,
   "id": "76d2757f",
   "metadata": {},
   "outputs": [],
   "source": [
    "# frames is a list of tensors with multiple samples in each tensor\n",
    "all_samples = [(i,j) for i,N in enumerate(frames_Ns) for j in range(N)]"
   ]
  },
  {
   "cell_type": "code",
   "execution_count": null,
   "id": "24cde440",
   "metadata": {},
   "outputs": [],
   "source": [
    "# tokens on the other hand are one concatenated list, we have to make a mapping to find them\n",
    "token_offs = np.cumsum([0] + frames_Ns)"
   ]
  },
  {
   "cell_type": "code",
   "execution_count": null,
   "id": "8b5820fa",
   "metadata": {},
   "outputs": [
    {
     "data": {
      "text/plain": [
       "(2587, 11)"
      ]
     },
     "execution_count": null,
     "metadata": {},
     "output_type": "execute_result"
    }
   ],
   "source": [
    "all_samples[-1]"
   ]
  },
  {
   "cell_type": "code",
   "execution_count": null,
   "id": "bbc4d7dc",
   "metadata": {},
   "outputs": [
    {
     "data": {
      "text/plain": [
       "array([    0,     3,    38, ..., 70529, 70548, 70560])"
      ]
     },
     "execution_count": null,
     "metadata": {},
     "output_type": "execute_result"
    }
   ],
   "source": [
    "token_offs"
   ]
  },
  {
   "cell_type": "code",
   "execution_count": null,
   "id": "95bd8c7b",
   "metadata": {},
   "outputs": [],
   "source": [
    "import whisper\n",
    "whmodel = whisper.load_model('tiny.en')\n",
    "tokenizer = whisper.tokenizer.get_tokenizer(False, language='en')"
   ]
  },
  {
   "cell_type": "code",
   "execution_count": null,
   "id": "24025a00",
   "metadata": {},
   "outputs": [
    {
     "data": {
      "text/plain": [
       "6656655"
      ]
     },
     "execution_count": null,
     "metadata": {},
     "output_type": "execute_result"
    }
   ],
   "source": [
    "# the total token count (keep in mind we have 50k+ unique tokens...)\n",
    "sum([len(t) for t in tokens])"
   ]
  },
  {
   "cell_type": "code",
   "execution_count": null,
   "id": "6841e0be",
   "metadata": {},
   "outputs": [
    {
     "data": {
      "text/plain": [
       "588.0"
      ]
     },
     "execution_count": null,
     "metadata": {},
     "output_type": "execute_result"
    }
   ],
   "source": [
    "# the audio length (in hours)\n",
    "sum(frames_Ns) * 30 / 60 / 60"
   ]
  },
  {
   "cell_type": "code",
   "execution_count": null,
   "id": "72b02227",
   "metadata": {},
   "outputs": [],
   "source": [
    "import whisper\n",
    "from torch import nn\n",
    "from vector_quantize_pytorch import ResidualVQ\n",
    "\n",
    "class LayerNorm(nn.LayerNorm):\n",
    "    def forward(self, x):\n",
    "        return super().forward(x.float()).type(x.dtype)\n",
    "    \n",
    "class RQBottleneckTransformer(nn.Module):\n",
    "    def __init__(self, width=384, vq_codes=512, q_depth=12, depth=1, n_head=2,\n",
    "                 codebook_dim=2, threshold_ema_dead_code=2, use_cosine_sim = False):\n",
    "        super(RQBottleneckTransformer, self).__init__()\n",
    "        self.vq_codes = vq_codes\n",
    "        \n",
    "        self.in_blocks = nn.Sequential(*[\n",
    "            whisper.model.ResidualAttentionBlock(width, n_head) for _ in range(depth)\n",
    "        ])\n",
    "        self.ln_vq = LayerNorm(width)\n",
    "\n",
    "        self.rq = ResidualVQ(\n",
    "            dim = width,\n",
    "            codebook_size = vq_codes, # codebook size\n",
    "            decay = 0.8,              # the exponential moving average decay, lower means the dictionary will change faster\n",
    "            commitment_weight = 1.,   # the weight on the commitment loss\n",
    "            threshold_ema_dead_code = threshold_ema_dead_code,\n",
    "            use_cosine_sim = use_cosine_sim,\n",
    "            codebook_dim = codebook_dim,\n",
    "            num_quantizers= q_depth,\n",
    "        )\n",
    "        \n",
    "        self.ce_lossf = nn.CrossEntropyLoss()\n",
    "        self.kl_lossf = nn.KLDivLoss(reduction='batchmean')\n",
    "\n",
    "        \n",
    "        self.out_blocks = nn.Sequential(*[\n",
    "            whisper.model.ResidualAttentionBlock(width, n_head) for _ in range(depth)\n",
    "        ])\n",
    "        self.ln_post = LayerNorm(width)\n",
    "\n",
    "    def encode(self, xin):\n",
    "        x = self.ln_vq(self.in_blocks(xin))\n",
    "        _, indices, _ = self.rq(x)\n",
    "        return indices\n",
    "        \n",
    "    def forward(self, xin, tokens=False):\n",
    "        x = self.ln_vq(self.in_blocks(xin))\n",
    "        quantized, self.indices, self.commit_loss = self.rq(x)\n",
    "        self.commit_loss = self.commit_loss.mean()\n",
    "        x = self.ln_post(self.out_blocks(quantized))\n",
    "        self.err = torch.tensor(torch.nan)\n",
    "        if tokens is not False:\n",
    "            ts = torch.tensor(list(tokenizer.sot_sequence) + tokens).repeat(1,1).cuda()\n",
    "            with torch.no_grad():\n",
    "                whmodel.eval()\n",
    "                teacher_logits = whmodel.decoder(ts, xin)\n",
    "                whmodel.train()\n",
    "            logits = whmodel.decoder(ts, x)\n",
    "            self.ce_loss = self.ce_lossf(logits.view(-1,logits.shape[-1]), torch.tensor(tokens + [tokenizer.eot]).cuda().view(-1))\n",
    "            self.kl_loss = self.kl_lossf(F.log_softmax(logits, dim=-1), F.softmax(teacher_logits, dim=-1))\n",
    "            loss = self.ce_loss + self.kl_loss + self.commit_loss\n",
    "            return x, loss\n",
    "        else:\n",
    "            return x"
   ]
  },
  {
   "cell_type": "code",
   "execution_count": null,
   "id": "099749c4",
   "metadata": {},
   "outputs": [],
   "source": [
    "# training code\n",
    "import torch.optim as optim\n",
    "import torch.nn.functional as F\n",
    "import random\n",
    "import IPython\n",
    "\n",
    "def train(vqmodel, xs, ys, split=0.01, Loss=nn.L1Loss(), lr=1e-4, weight_decay=0.1, pct_start=0.3, warmup=5000, warmup_mul=1e-2, epochs=10, scheduler=None):\n",
    "    all_params = set(vqmodel.parameters())\n",
    "    wd_params = set()\n",
    "    for m in vqmodel.modules():\n",
    "        if isinstance(m, nn.Linear):\n",
    "            wd_params.add(m.weight)\n",
    "            if m.bias is not None:\n",
    "                wd_params.add(m.bias)\n",
    "    no_wd_params = all_params - wd_params\n",
    "    \n",
    "    optimizer = torch.optim.AdamW(lr=lr * warmup_mul, betas=(0.9, 0.95), #fused=True,\n",
    "        params=[\n",
    "            {\"params\": list(wd_params), \"weight_decay\": weight_decay},\n",
    "            {\"params\": list(no_wd_params), \"weight_decay\": 0.0},\n",
    "        ]\n",
    "    )\n",
    "\n",
    "    idxs = all_samples[:]\n",
    "    random.shuffle(idxs)\n",
    "    val_n = int(split * len(idxs))\n",
    "    train_idxs, val_idxs = idxs[:-val_n], idxs[-val_n:]\n",
    "    run_valid_every_iters = len(train_idxs)//30\n",
    "\n",
    "    q_depth = len(vqmodel.rq.layers)\n",
    "    gs = plt.GridSpec(3, 1, height_ratios=[2, 1, 1])\n",
    "    vq_gs = gs[1].subgridspec(1, q_depth)\n",
    "    codebook_gs = gs[2].subgridspec(1, q_depth)\n",
    "    graph_fig = plt.figure(figsize=(10,6))\n",
    "    loss_p = graph_fig.add_subplot(gs[0])\n",
    "    vq_p = [graph_fig.add_subplot(vq_gs[i]) for i in range(q_depth)]\n",
    "    codebook_p = [graph_fig.add_subplot(codebook_gs[i]) for i in range(q_depth)]\n",
    "    graph_out = display(graph_fig, display_id=True, clear=True)\n",
    "    \n",
    "    it = 0\n",
    "    max_vq_usage = [5]*q_depth\n",
    "    vq_range = torch.tensor([-2,2,-2,2]).repeat(q_depth,1)\n",
    "    its = [torch.nan]\n",
    "    train_losses = [torch.nan]\n",
    "    val_losses = [torch.nan]\n",
    "    commit_loss = torch.nan\n",
    "    ce_loss = torch.nan\n",
    "    kl_loss = torch.nan\n",
    "    mb = master_bar(range(epochs))\n",
    "    mb.write([\"train\", \"val\"], table=True)\n",
    "    running_loss = [0]\n",
    "    for epoch in mb:\n",
    "        val_loss = 0\n",
    "        bar = progress_bar(train_idxs, parent=mb)\n",
    "        for step,(i,j) in enumerate(bar):\n",
    "            # zero the parameter gradients\n",
    "            optimizer.zero_grad()\n",
    "\n",
    "            ps, loss = vqmodel(xs[i][j].cuda().to(torch.float32), ys[token_offs[i] + j])\n",
    "            loss.backward()\n",
    "            optimizer.step()\n",
    "            if it == warmup:\n",
    "                scheduler = torch.optim.lr_scheduler.OneCycleLR(optimizer, max_lr=lr, pct_start=pct_start, steps_per_epoch=len(train_idxs), epochs=epochs)\n",
    "            if it > warmup:\n",
    "                # warmup\n",
    "                scheduler.step()\n",
    "\n",
    "            running_loss.append(loss.item())\n",
    "            running_loss = running_loss[-100:]\n",
    "            if it % run_valid_every_iters == 50:\n",
    "                its.append(it)\n",
    "                train_losses.append(sum(running_loss)/len(running_loss))\n",
    "                vqmodel.eval()\n",
    "                with torch.no_grad():\n",
    "                    loss = 0\n",
    "                    commit_loss = 0\n",
    "                    ce_loss = 0\n",
    "                    kl_loss = 0\n",
    "                    for i,j in val_idxs:\n",
    "                        ps, _loss = vqmodel(xs[i][j].cuda().to(torch.float32), ys[token_offs[i] + j])\n",
    "                        loss += _loss\n",
    "                        commit_loss += vqmodel.commit_loss\n",
    "                        ce_loss += vqmodel.ce_loss\n",
    "                        kl_loss += vqmodel.kl_loss\n",
    "                    N = len(val_idxs)\n",
    "                    loss = loss.item() / N; commit_loss = commit_loss.item() / N; ce_loss = ce_loss.item() / N; kl_loss = kl_loss.item() / N;\n",
    "                vqmodel.train()\n",
    "                val_losses.append(loss)\n",
    "                loss_p.clear()\n",
    "                loss_p.plot(its, train_losses)\n",
    "                loss_p.plot(its, val_losses)\n",
    "                loss_p.set_xlim(0, epochs * len(train_idxs))\n",
    "                loss_p.set_yscale('log')\n",
    "                for i in range(q_depth):\n",
    "                    vq = vqmodel.rq.layers[i]\n",
    "                    cls = vq._codebook.cluster_size\n",
    "                    vq_p[i].clear()\n",
    "                    vq_p[i].fill_between(range(cls.shape[1]), 0, torch.sort(cls, descending=True).values.cpu().numpy()[0])\n",
    "                    vq_p[i].margins(0,0)\n",
    "                    vq_p[i].spines['top'].set_visible(False)\n",
    "                    vq_p[i].spines['right'].set_visible(False)\n",
    "                    vq_p[i].spines['bottom'].set_visible(False)\n",
    "                    vq_p[i].spines['left'].set_visible(False)\n",
    "                    vq_p[i].set_ylim(0, max_vq_usage[i])\n",
    "                    used_codes = (cls > 0.1).sum()\n",
    "                    vq_p[i].text(0.5, 0.9, f'{int(used_codes)}', horizontalalignment='center',\n",
    "                         verticalalignment='center', transform=vq_p[i].transAxes)\n",
    "                    cd = vq._codebook.embed\n",
    "                    codebook_p[i].clear()\n",
    "                    codebook_p[i].scatter(vq.codebook[:,0].cpu(), vq.codebook[:,1].cpu(), s=vq._codebook.cluster_size.cpu(), alpha=.2)\n",
    "                    codebook_p[i].set_xlim(*vq_range[i][0:2])\n",
    "                    codebook_p[i].set_ylim(*vq_range[i][2:4])\n",
    "                graph_out.update(graph_fig)\n",
    "\n",
    "            it += 1\n",
    "            bar.comment = f\"#{epoch+1}/{epochs} loss: {sum(running_loss) / len(running_loss):.3f} / {val_losses[-1]:.3f} commit: {commit_loss:.3f} ce: {ce_loss:.3f} kl: {kl_loss:.3f}\"\n",
    "        mb.write([f\"{train_losses[-1]:.3f}\", f\"{val_losses[-1]:.3f}\"], table=True)\n",
    "    graph_out.update(IPython.display.HTML(''))"
   ]
  },
  {
   "cell_type": "code",
   "execution_count": null,
   "id": "ed8c3eeb",
   "metadata": {},
   "outputs": [
    {
     "data": {
      "image/png": "[encoded data removed]",
      "text/plain": [
       "<Figure size 1000x600 with 7 Axes>"
      ]
     },
     "metadata": {},
     "output_type": "display_data"
    },
    {
     "data": {
      "text/html": [
       "\n",
       "<style>\n",
       "    /* Turns off some styling */\n",
       "    progress {\n",
       "        /* gets rid of default border in Firefox and Opera. */\n",
       "        border: none;\n",
       "        /* Needs to be in here for Safari polyfill so background images work as expected. */\n",
       "        background-size: auto;\n",
       "    }\n",
       "    progress:not([value]), progress:not([value])::-webkit-progress-bar {\n",
       "        background: repeating-linear-gradient(45deg, #7e7e7e, #7e7e7e 10px, #5c5c5c 10px, #5c5c5c 20px);\n",
       "    }\n",
       "    .progress-bar-interrupted, .progress-bar-interrupted::-webkit-progress-bar {\n",
       "        background: #F44336;\n",
       "    }\n",
       "</style>\n"
      ],
      "text/plain": [
       "<IPython.core.display.HTML object>"
      ]
     },
     "metadata": {},
     "output_type": "display_data"
    },
    {
     "data": {
      "text/html": [
       "\n",
       "    <div>\n",
       "      <progress value='5' class='' max='10' style='width:300px; height:20px; vertical-align: middle;'></progress>\n",
       "      50.00% [5/10 3:52:25&lt;3:52:25]\n",
       "    </div>\n",
       "    \n",
       "<table border=\"1\" class=\"dataframe\">\n",
       "  <thead>\n",
       "    <tr style=\"text-align: left;\">\n",
       "      <th>train</th>\n",
       "      <th>val</th>\n",
       "    </tr>\n",
       "  </thead>\n",
       "  <tbody>\n",
       "    <tr>\n",
       "      <td>255.175</td>\n",
       "      <td>252.888</td>\n",
       "    </tr>\n",
       "    <tr>\n",
       "      <td>92.039</td>\n",
       "      <td>46.431</td>\n",
       "    </tr>\n",
       "    <tr>\n",
       "      <td>33.051</td>\n",
       "      <td>18.754</td>\n",
       "    </tr>\n",
       "    <tr>\n",
       "      <td>18.741</td>\n",
       "      <td>11.717</td>\n",
       "    </tr>\n",
       "    <tr>\n",
       "      <td>14.933</td>\n",
       "      <td>10.113</td>\n",
       "    </tr>\n",
       "  </tbody>\n",
       "</table><p>\n",
       "\n",
       "    <div>\n",
       "      <progress value='39717' class='' max='69855' style='width:300px; height:20px; vertical-align: middle;'></progress>\n",
       "      56.86% [39717/69855 27:38&lt;20:58 #6/10 loss: 13.664 / 9.490 commit: 0.000 ce: 0.397 kl: 9.092]\n",
       "    </div>\n",
       "    "
      ],
      "text/plain": [
       "<IPython.core.display.HTML object>"
      ]
     },
     "metadata": {},
     "output_type": "display_data"
    },
    {
     "ename": "KeyboardInterrupt",
     "evalue": "",
     "output_type": "error",
     "traceback": [
      "\u001b[0;31m---------------------------------------------------------------------------\u001b[0m",
      "\u001b[0;31mKeyboardInterrupt\u001b[0m                         Traceback (most recent call last)",
      "Cell \u001b[0;32mIn[38], line 3\u001b[0m\n\u001b[1;32m      1\u001b[0m vqmodel \u001b[38;5;241m=\u001b[39m RQBottleneckTransformer(codebook_dim\u001b[38;5;241m=\u001b[39m\u001b[38;5;241m16\u001b[39m, vq_codes\u001b[38;5;241m=\u001b[39m\u001b[38;5;241m2048\u001b[39m, q_depth\u001b[38;5;241m=\u001b[39m\u001b[38;5;241m3\u001b[39m, n_head\u001b[38;5;241m=\u001b[39m\u001b[38;5;241m6\u001b[39m, depth\u001b[38;5;241m=\u001b[39m\u001b[38;5;241m1\u001b[39m,\n\u001b[1;32m      2\u001b[0m                                   threshold_ema_dead_code\u001b[38;5;241m=\u001b[39m\u001b[38;5;241m0.1\u001b[39m)\u001b[38;5;241m.\u001b[39mcuda()\n\u001b[0;32m----> 3\u001b[0m \u001b[43mtrain\u001b[49m\u001b[43m(\u001b[49m\u001b[43mvqmodel\u001b[49m\u001b[43m,\u001b[49m\u001b[43m \u001b[49m\u001b[43mframes\u001b[49m\u001b[43m,\u001b[49m\u001b[43m \u001b[49m\u001b[43mtokens\u001b[49m\u001b[43m,\u001b[49m\u001b[43m \u001b[49m\u001b[43mepochs\u001b[49m\u001b[38;5;241;43m=\u001b[39;49m\u001b[38;5;241;43m10\u001b[39;49m\u001b[43m,\u001b[49m\u001b[43m \u001b[49m\u001b[43mlr\u001b[49m\u001b[38;5;241;43m=\u001b[39;49m\u001b[38;5;241;43m1e-4\u001b[39;49m\u001b[43m,\u001b[49m\u001b[43m \u001b[49m\u001b[43mwarmup_mul\u001b[49m\u001b[38;5;241;43m=\u001b[39;49m\u001b[38;5;241;43m1e-3\u001b[39;49m\u001b[43m,\u001b[49m\u001b[43m \u001b[49m\u001b[43mwarmup\u001b[49m\u001b[38;5;241;43m=\u001b[39;49m\u001b[38;5;241;43m10000\u001b[39;49m\u001b[43m)\u001b[49m\n",
      "Cell \u001b[0;32mIn[37], line 59\u001b[0m, in \u001b[0;36mtrain\u001b[0;34m(vqmodel, xs, ys, split, Loss, lr, weight_decay, pct_start, warmup, warmup_mul, epochs, scheduler)\u001b[0m\n\u001b[1;32m     55\u001b[0m \u001b[38;5;28;01mfor\u001b[39;00m step,(i,j) \u001b[38;5;129;01min\u001b[39;00m \u001b[38;5;28menumerate\u001b[39m(bar):\n\u001b[1;32m     56\u001b[0m     \u001b[38;5;66;03m# zero the parameter gradients\u001b[39;00m\n\u001b[1;32m     57\u001b[0m     optimizer\u001b[38;5;241m.\u001b[39mzero_grad()\n\u001b[0;32m---> 59\u001b[0m     ps, loss \u001b[38;5;241m=\u001b[39m \u001b[43mvqmodel\u001b[49m\u001b[43m(\u001b[49m\u001b[43mxs\u001b[49m\u001b[43m[\u001b[49m\u001b[43mi\u001b[49m\u001b[43m]\u001b[49m\u001b[43m[\u001b[49m\u001b[43mj\u001b[49m\u001b[43m]\u001b[49m\u001b[38;5;241;43m.\u001b[39;49m\u001b[43mcuda\u001b[49m\u001b[43m(\u001b[49m\u001b[43m)\u001b[49m\u001b[38;5;241;43m.\u001b[39;49m\u001b[43mto\u001b[49m\u001b[43m(\u001b[49m\u001b[43mtorch\u001b[49m\u001b[38;5;241;43m.\u001b[39;49m\u001b[43mfloat32\u001b[49m\u001b[43m)\u001b[49m\u001b[43m,\u001b[49m\u001b[43m \u001b[49m\u001b[43mys\u001b[49m\u001b[43m[\u001b[49m\u001b[43mtoken_offs\u001b[49m\u001b[43m[\u001b[49m\u001b[43mi\u001b[49m\u001b[43m]\u001b[49m\u001b[43m \u001b[49m\u001b[38;5;241;43m+\u001b[39;49m\u001b[43m \u001b[49m\u001b[43mj\u001b[49m\u001b[43m]\u001b[49m\u001b[43m)\u001b[49m\n\u001b[1;32m     60\u001b[0m     loss\u001b[38;5;241m.\u001b[39mbackward()\n\u001b[1;32m     61\u001b[0m     optimizer\u001b[38;5;241m.\u001b[39mstep()\n",
      "File \u001b[0;32m~/miniconda3/envs/jupyter-new/lib/python3.10/site-packages/torch/nn/modules/module.py:1194\u001b[0m, in \u001b[0;36mModule._call_impl\u001b[0;34m(self, *input, **kwargs)\u001b[0m\n\u001b[1;32m   1190\u001b[0m \u001b[38;5;66;03m# If we don't have any hooks, we want to skip the rest of the logic in\u001b[39;00m\n\u001b[1;32m   1191\u001b[0m \u001b[38;5;66;03m# this function, and just call forward.\u001b[39;00m\n\u001b[1;32m   1192\u001b[0m \u001b[38;5;28;01mif\u001b[39;00m \u001b[38;5;129;01mnot\u001b[39;00m (\u001b[38;5;28mself\u001b[39m\u001b[38;5;241m.\u001b[39m_backward_hooks \u001b[38;5;129;01mor\u001b[39;00m \u001b[38;5;28mself\u001b[39m\u001b[38;5;241m.\u001b[39m_forward_hooks \u001b[38;5;129;01mor\u001b[39;00m \u001b[38;5;28mself\u001b[39m\u001b[38;5;241m.\u001b[39m_forward_pre_hooks \u001b[38;5;129;01mor\u001b[39;00m _global_backward_hooks\n\u001b[1;32m   1193\u001b[0m         \u001b[38;5;129;01mor\u001b[39;00m _global_forward_hooks \u001b[38;5;129;01mor\u001b[39;00m _global_forward_pre_hooks):\n\u001b[0;32m-> 1194\u001b[0m     \u001b[38;5;28;01mreturn\u001b[39;00m \u001b[43mforward_call\u001b[49m\u001b[43m(\u001b[49m\u001b[38;5;241;43m*\u001b[39;49m\u001b[38;5;28;43minput\u001b[39;49m\u001b[43m,\u001b[49m\u001b[43m \u001b[49m\u001b[38;5;241;43m*\u001b[39;49m\u001b[38;5;241;43m*\u001b[39;49m\u001b[43mkwargs\u001b[49m\u001b[43m)\u001b[49m\n\u001b[1;32m   1195\u001b[0m \u001b[38;5;66;03m# Do not call functions when jit is used\u001b[39;00m\n\u001b[1;32m   1196\u001b[0m full_backward_hooks, non_full_backward_hooks \u001b[38;5;241m=\u001b[39m [], []\n",
      "Cell \u001b[0;32mIn[34], line 53\u001b[0m, in \u001b[0;36mRQBottleneckTransformer.forward\u001b[0;34m(self, xin, tokens)\u001b[0m\n\u001b[1;32m     51\u001b[0m \u001b[38;5;28;01mwith\u001b[39;00m torch\u001b[38;5;241m.\u001b[39mno_grad():\n\u001b[1;32m     52\u001b[0m     whmodel\u001b[38;5;241m.\u001b[39meval()\n\u001b[0;32m---> 53\u001b[0m     teacher_logits \u001b[38;5;241m=\u001b[39m \u001b[43mwhmodel\u001b[49m\u001b[38;5;241;43m.\u001b[39;49m\u001b[43mdecoder\u001b[49m\u001b[43m(\u001b[49m\u001b[43mts\u001b[49m\u001b[43m,\u001b[49m\u001b[43m \u001b[49m\u001b[43mxin\u001b[49m\u001b[43m)\u001b[49m\n\u001b[1;32m     54\u001b[0m     whmodel\u001b[38;5;241m.\u001b[39mtrain()\n\u001b[1;32m     55\u001b[0m logits \u001b[38;5;241m=\u001b[39m whmodel\u001b[38;5;241m.\u001b[39mdecoder(ts, x)\n",
      "File \u001b[0;32m~/miniconda3/envs/jupyter-new/lib/python3.10/site-packages/torch/nn/modules/module.py:1194\u001b[0m, in \u001b[0;36mModule._call_impl\u001b[0;34m(self, *input, **kwargs)\u001b[0m\n\u001b[1;32m   1190\u001b[0m \u001b[38;5;66;03m# If we don't have any hooks, we want to skip the rest of the logic in\u001b[39;00m\n\u001b[1;32m   1191\u001b[0m \u001b[38;5;66;03m# this function, and just call forward.\u001b[39;00m\n\u001b[1;32m   1192\u001b[0m \u001b[38;5;28;01mif\u001b[39;00m \u001b[38;5;129;01mnot\u001b[39;00m (\u001b[38;5;28mself\u001b[39m\u001b[38;5;241m.\u001b[39m_backward_hooks \u001b[38;5;129;01mor\u001b[39;00m \u001b[38;5;28mself\u001b[39m\u001b[38;5;241m.\u001b[39m_forward_hooks \u001b[38;5;129;01mor\u001b[39;00m \u001b[38;5;28mself\u001b[39m\u001b[38;5;241m.\u001b[39m_forward_pre_hooks \u001b[38;5;129;01mor\u001b[39;00m _global_backward_hooks\n\u001b[1;32m   1193\u001b[0m         \u001b[38;5;129;01mor\u001b[39;00m _global_forward_hooks \u001b[38;5;129;01mor\u001b[39;00m _global_forward_pre_hooks):\n\u001b[0;32m-> 1194\u001b[0m     \u001b[38;5;28;01mreturn\u001b[39;00m \u001b[43mforward_call\u001b[49m\u001b[43m(\u001b[49m\u001b[38;5;241;43m*\u001b[39;49m\u001b[38;5;28;43minput\u001b[39;49m\u001b[43m,\u001b[49m\u001b[43m \u001b[49m\u001b[38;5;241;43m*\u001b[39;49m\u001b[38;5;241;43m*\u001b[39;49m\u001b[43mkwargs\u001b[49m\u001b[43m)\u001b[49m\n\u001b[1;32m   1195\u001b[0m \u001b[38;5;66;03m# Do not call functions when jit is used\u001b[39;00m\n\u001b[1;32m   1196\u001b[0m full_backward_hooks, non_full_backward_hooks \u001b[38;5;241m=\u001b[39m [], []\n",
      "File \u001b[0;32m~/miniconda3/envs/jupyter-new/lib/python3.10/site-packages/whisper/model.py:190\u001b[0m, in \u001b[0;36mTextDecoder.forward\u001b[0;34m(self, x, xa, kv_cache)\u001b[0m\n\u001b[1;32m    187\u001b[0m x \u001b[38;5;241m=\u001b[39m x\u001b[38;5;241m.\u001b[39mto(xa\u001b[38;5;241m.\u001b[39mdtype)\n\u001b[1;32m    189\u001b[0m \u001b[38;5;28;01mfor\u001b[39;00m block \u001b[38;5;129;01min\u001b[39;00m \u001b[38;5;28mself\u001b[39m\u001b[38;5;241m.\u001b[39mblocks:\n\u001b[0;32m--> 190\u001b[0m     x \u001b[38;5;241m=\u001b[39m \u001b[43mblock\u001b[49m\u001b[43m(\u001b[49m\u001b[43mx\u001b[49m\u001b[43m,\u001b[49m\u001b[43m \u001b[49m\u001b[43mxa\u001b[49m\u001b[43m,\u001b[49m\u001b[43m \u001b[49m\u001b[43mmask\u001b[49m\u001b[38;5;241;43m=\u001b[39;49m\u001b[38;5;28;43mself\u001b[39;49m\u001b[38;5;241;43m.\u001b[39;49m\u001b[43mmask\u001b[49m\u001b[43m,\u001b[49m\u001b[43m \u001b[49m\u001b[43mkv_cache\u001b[49m\u001b[38;5;241;43m=\u001b[39;49m\u001b[43mkv_cache\u001b[49m\u001b[43m)\u001b[49m\n\u001b[1;32m    192\u001b[0m x \u001b[38;5;241m=\u001b[39m \u001b[38;5;28mself\u001b[39m\u001b[38;5;241m.\u001b[39mln(x)\n\u001b[1;32m    193\u001b[0m logits \u001b[38;5;241m=\u001b[39m (x \u001b[38;5;241m@\u001b[39m torch\u001b[38;5;241m.\u001b[39mtranspose(\u001b[38;5;28mself\u001b[39m\u001b[38;5;241m.\u001b[39mtoken_embedding\u001b[38;5;241m.\u001b[39mweight\u001b[38;5;241m.\u001b[39mto(x\u001b[38;5;241m.\u001b[39mdtype), \u001b[38;5;241m0\u001b[39m, \u001b[38;5;241m1\u001b[39m))\u001b[38;5;241m.\u001b[39mfloat()\n",
      "File \u001b[0;32m~/miniconda3/envs/jupyter-new/lib/python3.10/site-packages/torch/nn/modules/module.py:1194\u001b[0m, in \u001b[0;36mModule._call_impl\u001b[0;34m(self, *input, **kwargs)\u001b[0m\n\u001b[1;32m   1190\u001b[0m \u001b[38;5;66;03m# If we don't have any hooks, we want to skip the rest of the logic in\u001b[39;00m\n\u001b[1;32m   1191\u001b[0m \u001b[38;5;66;03m# this function, and just call forward.\u001b[39;00m\n\u001b[1;32m   1192\u001b[0m \u001b[38;5;28;01mif\u001b[39;00m \u001b[38;5;129;01mnot\u001b[39;00m (\u001b[38;5;28mself\u001b[39m\u001b[38;5;241m.\u001b[39m_backward_hooks \u001b[38;5;129;01mor\u001b[39;00m \u001b[38;5;28mself\u001b[39m\u001b[38;5;241m.\u001b[39m_forward_hooks \u001b[38;5;129;01mor\u001b[39;00m \u001b[38;5;28mself\u001b[39m\u001b[38;5;241m.\u001b[39m_forward_pre_hooks \u001b[38;5;129;01mor\u001b[39;00m _global_backward_hooks\n\u001b[1;32m   1193\u001b[0m         \u001b[38;5;129;01mor\u001b[39;00m _global_forward_hooks \u001b[38;5;129;01mor\u001b[39;00m _global_forward_pre_hooks):\n\u001b[0;32m-> 1194\u001b[0m     \u001b[38;5;28;01mreturn\u001b[39;00m \u001b[43mforward_call\u001b[49m\u001b[43m(\u001b[49m\u001b[38;5;241;43m*\u001b[39;49m\u001b[38;5;28;43minput\u001b[39;49m\u001b[43m,\u001b[49m\u001b[43m \u001b[49m\u001b[38;5;241;43m*\u001b[39;49m\u001b[38;5;241;43m*\u001b[39;49m\u001b[43mkwargs\u001b[49m\u001b[43m)\u001b[49m\n\u001b[1;32m   1195\u001b[0m \u001b[38;5;66;03m# Do not call functions when jit is used\u001b[39;00m\n\u001b[1;32m   1196\u001b[0m full_backward_hooks, non_full_backward_hooks \u001b[38;5;241m=\u001b[39m [], []\n",
      "File \u001b[0;32m~/miniconda3/envs/jupyter-new/lib/python3.10/site-packages/whisper/model.py:125\u001b[0m, in \u001b[0;36mResidualAttentionBlock.forward\u001b[0;34m(self, x, xa, mask, kv_cache)\u001b[0m\n\u001b[1;32m    118\u001b[0m \u001b[38;5;28;01mdef\u001b[39;00m \u001b[38;5;21mforward\u001b[39m(\n\u001b[1;32m    119\u001b[0m     \u001b[38;5;28mself\u001b[39m,\n\u001b[1;32m    120\u001b[0m     x: Tensor,\n\u001b[0;32m   (...)\u001b[0m\n\u001b[1;32m    123\u001b[0m     kv_cache: Optional[\u001b[38;5;28mdict\u001b[39m] \u001b[38;5;241m=\u001b[39m \u001b[38;5;28;01mNone\u001b[39;00m,\n\u001b[1;32m    124\u001b[0m ):\n\u001b[0;32m--> 125\u001b[0m     x \u001b[38;5;241m=\u001b[39m x \u001b[38;5;241m+\u001b[39m \u001b[38;5;28;43mself\u001b[39;49m\u001b[38;5;241;43m.\u001b[39;49m\u001b[43mattn\u001b[49m\u001b[43m(\u001b[49m\u001b[38;5;28;43mself\u001b[39;49m\u001b[38;5;241;43m.\u001b[39;49m\u001b[43mattn_ln\u001b[49m\u001b[43m(\u001b[49m\u001b[43mx\u001b[49m\u001b[43m)\u001b[49m\u001b[43m,\u001b[49m\u001b[43m \u001b[49m\u001b[43mmask\u001b[49m\u001b[38;5;241;43m=\u001b[39;49m\u001b[43mmask\u001b[49m\u001b[43m,\u001b[49m\u001b[43m \u001b[49m\u001b[43mkv_cache\u001b[49m\u001b[38;5;241;43m=\u001b[39;49m\u001b[43mkv_cache\u001b[49m\u001b[43m)\u001b[49m[\u001b[38;5;241m0\u001b[39m]\n\u001b[1;32m    126\u001b[0m     \u001b[38;5;28;01mif\u001b[39;00m \u001b[38;5;28mself\u001b[39m\u001b[38;5;241m.\u001b[39mcross_attn:\n\u001b[1;32m    127\u001b[0m         x \u001b[38;5;241m=\u001b[39m x \u001b[38;5;241m+\u001b[39m \u001b[38;5;28mself\u001b[39m\u001b[38;5;241m.\u001b[39mcross_attn(\u001b[38;5;28mself\u001b[39m\u001b[38;5;241m.\u001b[39mcross_attn_ln(x), xa, kv_cache\u001b[38;5;241m=\u001b[39mkv_cache)[\u001b[38;5;241m0\u001b[39m]\n",
      "File \u001b[0;32m~/miniconda3/envs/jupyter-new/lib/python3.10/site-packages/torch/nn/modules/module.py:1194\u001b[0m, in \u001b[0;36mModule._call_impl\u001b[0;34m(self, *input, **kwargs)\u001b[0m\n\u001b[1;32m   1190\u001b[0m \u001b[38;5;66;03m# If we don't have any hooks, we want to skip the rest of the logic in\u001b[39;00m\n\u001b[1;32m   1191\u001b[0m \u001b[38;5;66;03m# this function, and just call forward.\u001b[39;00m\n\u001b[1;32m   1192\u001b[0m \u001b[38;5;28;01mif\u001b[39;00m \u001b[38;5;129;01mnot\u001b[39;00m (\u001b[38;5;28mself\u001b[39m\u001b[38;5;241m.\u001b[39m_backward_hooks \u001b[38;5;129;01mor\u001b[39;00m \u001b[38;5;28mself\u001b[39m\u001b[38;5;241m.\u001b[39m_forward_hooks \u001b[38;5;129;01mor\u001b[39;00m \u001b[38;5;28mself\u001b[39m\u001b[38;5;241m.\u001b[39m_forward_pre_hooks \u001b[38;5;129;01mor\u001b[39;00m _global_backward_hooks\n\u001b[1;32m   1193\u001b[0m         \u001b[38;5;129;01mor\u001b[39;00m _global_forward_hooks \u001b[38;5;129;01mor\u001b[39;00m _global_forward_pre_hooks):\n\u001b[0;32m-> 1194\u001b[0m     \u001b[38;5;28;01mreturn\u001b[39;00m \u001b[43mforward_call\u001b[49m\u001b[43m(\u001b[49m\u001b[38;5;241;43m*\u001b[39;49m\u001b[38;5;28;43minput\u001b[39;49m\u001b[43m,\u001b[49m\u001b[43m \u001b[49m\u001b[38;5;241;43m*\u001b[39;49m\u001b[38;5;241;43m*\u001b[39;49m\u001b[43mkwargs\u001b[49m\u001b[43m)\u001b[49m\n\u001b[1;32m   1195\u001b[0m \u001b[38;5;66;03m# Do not call functions when jit is used\u001b[39;00m\n\u001b[1;32m   1196\u001b[0m full_backward_hooks, non_full_backward_hooks \u001b[38;5;241m=\u001b[39m [], []\n",
      "File \u001b[0;32m~/miniconda3/envs/jupyter-new/lib/python3.10/site-packages/whisper/model.py:85\u001b[0m, in \u001b[0;36mMultiHeadAttention.forward\u001b[0;34m(self, x, xa, mask, kv_cache)\u001b[0m\n\u001b[1;32m     82\u001b[0m     k \u001b[38;5;241m=\u001b[39m kv_cache[\u001b[38;5;28mself\u001b[39m\u001b[38;5;241m.\u001b[39mkey]\n\u001b[1;32m     83\u001b[0m     v \u001b[38;5;241m=\u001b[39m kv_cache[\u001b[38;5;28mself\u001b[39m\u001b[38;5;241m.\u001b[39mvalue]\n\u001b[0;32m---> 85\u001b[0m wv, qk \u001b[38;5;241m=\u001b[39m \u001b[38;5;28;43mself\u001b[39;49m\u001b[38;5;241;43m.\u001b[39;49m\u001b[43mqkv_attention\u001b[49m\u001b[43m(\u001b[49m\u001b[43mq\u001b[49m\u001b[43m,\u001b[49m\u001b[43m \u001b[49m\u001b[43mk\u001b[49m\u001b[43m,\u001b[49m\u001b[43m \u001b[49m\u001b[43mv\u001b[49m\u001b[43m,\u001b[49m\u001b[43m \u001b[49m\u001b[43mmask\u001b[49m\u001b[43m)\u001b[49m\n\u001b[1;32m     86\u001b[0m \u001b[38;5;28;01mreturn\u001b[39;00m \u001b[38;5;28mself\u001b[39m\u001b[38;5;241m.\u001b[39mout(wv), qk\n",
      "File \u001b[0;32m~/miniconda3/envs/jupyter-new/lib/python3.10/site-packages/whisper/model.py:92\u001b[0m, in \u001b[0;36mMultiHeadAttention.qkv_attention\u001b[0;34m(self, q, k, v, mask)\u001b[0m\n\u001b[1;32m     90\u001b[0m scale \u001b[38;5;241m=\u001b[39m (n_state \u001b[38;5;241m/\u001b[39m\u001b[38;5;241m/\u001b[39m \u001b[38;5;28mself\u001b[39m\u001b[38;5;241m.\u001b[39mn_head) \u001b[38;5;241m*\u001b[39m\u001b[38;5;241m*\u001b[39m \u001b[38;5;241m-\u001b[39m\u001b[38;5;241m0.25\u001b[39m\n\u001b[1;32m     91\u001b[0m q \u001b[38;5;241m=\u001b[39m q\u001b[38;5;241m.\u001b[39mview(\u001b[38;5;241m*\u001b[39mq\u001b[38;5;241m.\u001b[39mshape[:\u001b[38;5;241m2\u001b[39m], \u001b[38;5;28mself\u001b[39m\u001b[38;5;241m.\u001b[39mn_head, \u001b[38;5;241m-\u001b[39m\u001b[38;5;241m1\u001b[39m)\u001b[38;5;241m.\u001b[39mpermute(\u001b[38;5;241m0\u001b[39m, \u001b[38;5;241m2\u001b[39m, \u001b[38;5;241m1\u001b[39m, \u001b[38;5;241m3\u001b[39m) \u001b[38;5;241m*\u001b[39m scale\n\u001b[0;32m---> 92\u001b[0m k \u001b[38;5;241m=\u001b[39m \u001b[43mk\u001b[49m\u001b[38;5;241;43m.\u001b[39;49m\u001b[43mview\u001b[49m\u001b[43m(\u001b[49m\u001b[38;5;241;43m*\u001b[39;49m\u001b[43mk\u001b[49m\u001b[38;5;241;43m.\u001b[39;49m\u001b[43mshape\u001b[49m\u001b[43m[\u001b[49m\u001b[43m:\u001b[49m\u001b[38;5;241;43m2\u001b[39;49m\u001b[43m]\u001b[49m\u001b[43m,\u001b[49m\u001b[43m \u001b[49m\u001b[38;5;28;43mself\u001b[39;49m\u001b[38;5;241;43m.\u001b[39;49m\u001b[43mn_head\u001b[49m\u001b[43m,\u001b[49m\u001b[43m \u001b[49m\u001b[38;5;241;43m-\u001b[39;49m\u001b[38;5;241;43m1\u001b[39;49m\u001b[43m)\u001b[49m\u001b[38;5;241m.\u001b[39mpermute(\u001b[38;5;241m0\u001b[39m, \u001b[38;5;241m2\u001b[39m, \u001b[38;5;241m3\u001b[39m, \u001b[38;5;241m1\u001b[39m) \u001b[38;5;241m*\u001b[39m scale\n\u001b[1;32m     93\u001b[0m v \u001b[38;5;241m=\u001b[39m v\u001b[38;5;241m.\u001b[39mview(\u001b[38;5;241m*\u001b[39mv\u001b[38;5;241m.\u001b[39mshape[:\u001b[38;5;241m2\u001b[39m], \u001b[38;5;28mself\u001b[39m\u001b[38;5;241m.\u001b[39mn_head, \u001b[38;5;241m-\u001b[39m\u001b[38;5;241m1\u001b[39m)\u001b[38;5;241m.\u001b[39mpermute(\u001b[38;5;241m0\u001b[39m, \u001b[38;5;241m2\u001b[39m, \u001b[38;5;241m1\u001b[39m, \u001b[38;5;241m3\u001b[39m)\n\u001b[1;32m     95\u001b[0m qk \u001b[38;5;241m=\u001b[39m q \u001b[38;5;241m@\u001b[39m k\n",
      "\u001b[0;31mKeyboardInterrupt\u001b[0m: "
     ]
    },
    {
     "data": {
      "image/png": "[encoded data removed]",
      "text/plain": [
       "<Figure size 1000x600 with 7 Axes>"
      ]
     },
     "metadata": {},
     "output_type": "display_data"
    }
   ],
   "source": [
    "vqmodel = RQBottleneckTransformer(codebook_dim=16, vq_codes=2048, q_depth=3, n_head=6, depth=1,\n",
    "                                  threshold_ema_dead_code=0.1).cuda()\n",
    "train(vqmodel, frames, tokens, epochs=10, lr=1e-4, warmup_mul=1e-3, warmup=10000)"
   ]
  },
  {
   "cell_type": "markdown",
   "id": "0e0519f3",
   "metadata": {},
   "source": [
    "## Check the decoder performance with and without the RQ bottleneck"
   ]
  },
  {
   "cell_type": "code",
   "execution_count": null,
   "id": "63ea38d8",
   "metadata": {},
   "outputs": [
    {
     "data": {
      "text/plain": [
       "' Richard Corrie by Edwin Arlington Robinson, read for librovox.org by Fox and the stars of shininghalf.com. Whenever Richard Corrie went downtown, we people on the pavement looked at him. He He was a gentleman from Seoul to crown, clean favored, and impurially slim.<|endoftext|>'"
      ]
     },
     "execution_count": null,
     "metadata": {},
     "output_type": "execute_result"
    }
   ],
   "source": [
    "tokenizer.decode(whmodel.decoder(torch.tensor(list(tokenizer.sot_sequence) + tokens[0]).repeat(1,1).cuda(), frames[0][0].cuda()).argmax(-1)[0])"
   ]
  },
  {
   "cell_type": "code",
   "execution_count": null,
   "id": "616b6d90",
   "metadata": {},
   "outputs": [
    {
     "data": {
      "text/plain": [
       "'<|nospeech|> Richard Coryrie by Edwin Arlington Robinson, read for Libroox.org by Fox in the Stars of shining half.com. Whenever Richard Corrie went downtown, we people on the pavement looked at him. He He was a gentleman from sold to Crown, clean favored and and impurially slim.<|endoftext|>'"
      ]
     },
     "execution_count": null,
     "metadata": {},
     "output_type": "execute_result"
    }
   ],
   "source": [
    "# probably a bit better with more data, good enough for now\n",
    "tokenizer.decode(whmodel.decoder(torch.tensor(list(tokenizer.sot_sequence) + tokens[0]).repeat(1,1).cuda(), vqmodel(frames[0][0].cuda().to(torch.float32))).argmax(-1)[0])"
   ]
  },
  {
   "cell_type": "markdown",
   "id": "f57f315c",
   "metadata": {},
   "source": [
    "### Save the model"
   ]
  },
  {
   "cell_type": "code",
   "execution_count": null,
   "id": "62268b75",
   "metadata": {},
   "outputs": [],
   "source": [
    "torch.save(vqmodel.state_dict(), 'vqmodel-tiny-600h.pth')"
   ]
  },
  {
   "cell_type": "code",
   "execution_count": null,
   "id": "94a3e196",
   "metadata": {},
   "outputs": [
    {
     "data": {
      "text/plain": [
       "RQBottleneckTransformer(\n",
       "  (in_blocks): Sequential(\n",
       "    (0): ResidualAttentionBlock(\n",
       "      (attn): MultiHeadAttention(\n",
       "        (query): Linear(in_features=384, out_features=384, bias=True)\n",
       "        (key): Linear(in_features=384, out_features=384, bias=False)\n",
       "        (value): Linear(in_features=384, out_features=384, bias=True)\n",
       "        (out): Linear(in_features=384, out_features=384, bias=True)\n",
       "      )\n",
       "      (attn_ln): LayerNorm((384,), eps=1e-05, elementwise_affine=True)\n",
       "      (mlp): Sequential(\n",
       "        (0): Linear(in_features=384, out_features=1536, bias=True)\n",
       "        (1): GELU(approximate='none')\n",
       "        (2): Linear(in_features=1536, out_features=384, bias=True)\n",
       "      )\n",
       "      (mlp_ln): LayerNorm((384,), eps=1e-05, elementwise_affine=True)\n",
       "    )\n",
       "  )\n",
       "  (ln_vq): LayerNorm((384,), eps=1e-05, elementwise_affine=True)\n",
       "  (rq): ResidualVQ(\n",
       "    (layers): ModuleList(\n",
       "      (0): VectorQuantize(\n",
       "        (project_in): Linear(in_features=384, out_features=16, bias=True)\n",
       "        (project_out): Linear(in_features=16, out_features=384, bias=True)\n",
       "        (_codebook): EuclideanCodebook()\n",
       "      )\n",
       "      (1): VectorQuantize(\n",
       "        (project_in): Linear(in_features=384, out_features=16, bias=True)\n",
       "        (project_out): Linear(in_features=16, out_features=384, bias=True)\n",
       "        (_codebook): EuclideanCodebook()\n",
       "      )\n",
       "      (2): VectorQuantize(\n",
       "        (project_in): Linear(in_features=384, out_features=16, bias=True)\n",
       "        (project_out): Linear(in_features=16, out_features=384, bias=True)\n",
       "        (_codebook): EuclideanCodebook()\n",
       "      )\n",
       "    )\n",
       "  )\n",
       "  (ce_lossf): CrossEntropyLoss()\n",
       "  (kl_lossf): KLDivLoss()\n",
       "  (out_blocks): Sequential(\n",
       "    (0): ResidualAttentionBlock(\n",
       "      (attn): MultiHeadAttention(\n",
       "        (query): Linear(in_features=384, out_features=384, bias=True)\n",
       "        (key): Linear(in_features=384, out_features=384, bias=False)\n",
       "        (value): Linear(in_features=384, out_features=384, bias=True)\n",
       "        (out): Linear(in_features=384, out_features=384, bias=True)\n",
       "      )\n",
       "      (attn_ln): LayerNorm((384,), eps=1e-05, elementwise_affine=True)\n",
       "      (mlp): Sequential(\n",
       "        (0): Linear(in_features=384, out_features=1536, bias=True)\n",
       "        (1): GELU(approximate='none')\n",
       "        (2): Linear(in_features=1536, out_features=384, bias=True)\n",
       "      )\n",
       "      (mlp_ln): LayerNorm((384,), eps=1e-05, elementwise_affine=True)\n",
       "    )\n",
       "  )\n",
       "  (ln_post): LayerNorm((384,), eps=1e-05, elementwise_affine=True)\n",
       ")"
      ]
     },
     "execution_count": null,
     "metadata": {},
     "output_type": "execute_result"
    }
   ],
   "source": [
    "vqmodel = RQBottleneckTransformer(codebook_dim=16, vq_codes=2048, q_depth=3, n_head=6, depth=1,\n",
    "                                  threshold_ema_dead_code=0.1)\n",
    "vqmodel.load_state_dict(torch.load('vqmodel-tiny-600h.pth'))\n",
    "vqmodel.eval().cuda()"
   ]
  },
  {
   "cell_type": "code",
   "execution_count": null,
   "id": "4db88745",
   "metadata": {},
   "outputs": [
    {
     "data": {
      "text/plain": [
       "torch.Size([3, 1, 1500, 384])"
      ]
     },
     "execution_count": null,
     "metadata": {},
     "output_type": "execute_result"
    }
   ],
   "source": [
    "frames[0].cuda().to(torch.float32).shape"
   ]
  },
  {
   "cell_type": "code",
   "execution_count": null,
   "id": "ed8f4304",
   "metadata": {},
   "outputs": [
    {
     "data": {
      "text/plain": [
       "torch.Size([3, 1500, 3])"
      ]
     },
     "execution_count": null,
     "metadata": {},
     "output_type": "execute_result"
    }
   ],
   "source": [
    "vqmodel.encode(frames[0].cuda().to(torch.float32).squeeze(1)).shape"
   ]
  },
  {
   "cell_type": "markdown",
   "id": "a2fd5d70",
   "metadata": {},
   "source": [
    "### Generate and save all semantic tokens (semtoks)"
   ]
  },
  {
   "cell_type": "code",
   "execution_count": null,
   "id": "0189848c",
   "metadata": {},
   "outputs": [
    {
     "data": {
      "text/html": [
       "\n",
       "<style>\n",
       "    /* Turns off some styling */\n",
       "    progress {\n",
       "        /* gets rid of default border in Firefox and Opera. */\n",
       "        border: none;\n",
       "        /* Needs to be in here for Safari polyfill so background images work as expected. */\n",
       "        background-size: auto;\n",
       "    }\n",
       "    progress:not([value]), progress:not([value])::-webkit-progress-bar {\n",
       "        background: repeating-linear-gradient(45deg, #7e7e7e, #7e7e7e 10px, #5c5c5c 10px, #5c5c5c 20px);\n",
       "    }\n",
       "    .progress-bar-interrupted, .progress-bar-interrupted::-webkit-progress-bar {\n",
       "        background: #F44336;\n",
       "    }\n",
       "</style>\n"
      ],
      "text/plain": [
       "<IPython.core.display.HTML object>"
      ]
     },
     "metadata": {},
     "output_type": "display_data"
    },
    {
     "data": {
      "text/html": [],
      "text/plain": [
       "<IPython.core.display.HTML object>"
      ]
     },
     "metadata": {},
     "output_type": "display_data"
    }
   ],
   "source": [
    "mb = master_bar(list(Path(f'/mnt/whisper-distil/').glob('whisper-tiny-decoder-*')))\n",
    "for dirname in mb:\n",
    "    for name in progress_bar(list(dirname.rglob('*.whisper')), parent=mb):\n",
    "        semtoks = vqmodel.encode(torch.load(name).cuda().to(torch.float32).squeeze(1))\n",
    "        torch.save(semtoks.to(torch.int16).cpu(), name.with_suffix('.semtok'))"
   ]
  }
 ],
 "metadata": {
  "kernelspec": {
   "display_name": "Python 3 (ipykernel)",
   "language": "python",
   "name": "python3"
  }
 },
 "nbformat": 4,
 "nbformat_minor": 5
}
